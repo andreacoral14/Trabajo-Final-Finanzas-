{
  "nbformat": 4,
  "nbformat_minor": 0,
  "metadata": {
    "colab": {
      "provenance": []
    },
    "kernelspec": {
      "name": "python3",
      "display_name": "Python 3"
    },
    "language_info": {
      "name": "python"
    }
  },
  "cells": [
    {
      "cell_type": "markdown",
      "source": [
        "#**Proyecto Final**\n",
        "**Caso de aplicación guía: Plan de producción en una empresa manufacturera**\n",
        "\n",
        "Nombres: Andrea Coral, Valentina Gonzales y Diego Ávila"
      ],
      "metadata": {
        "id": "75N4KnUVZo3B"
      }
    },
    {
      "cell_type": "code",
      "source": [
        "import numpy as np\n",
        "import pandas as pd\n",
        "import matplotlib.pyplot as plt\n",
        "from scipy import stats\n",
        "import scipy.optimize as sco\n",
        "import warnings\n",
        "warnings.filterwarnings(\"ignore\")\n",
        "%pip install --quiet yfinance\n",
        "import yfinance as yf\n",
        "from pandas_datareader import data as pdr\n",
        "import cvxpy as cp\n",
        "from scipy.stats import norm"
      ],
      "metadata": {
        "id": "dSXstwPgZKiS"
      },
      "execution_count": 3,
      "outputs": []
    },
    {
      "cell_type": "markdown",
      "source": [
        "La planeación del proceso de producción es uno de los problemas más importantes a los que se enfrentan las industrias manufactureras.\n",
        "\n",
        "# **Objetivo:**\n",
        "Optimizar la producción determinando la cantidad óptima de bienes a producir, teniendo en cuenta factores como la demanda, la capacidad de producción y los costos de inventario.\n",
        "\n",
        "Debido a que el problema es complejo, necesita un modelo de optimización para encontrar la mejor solución.\n"
      ],
      "metadata": {
        "id": "byF-RY-okx4I"
      }
    },
    {
      "cell_type": "markdown",
      "source": [
        "Supongamos que una empresa manufacturera produce tres tipos de productos: Producto\n",
        "A, Producto B y Producto C. La empresa tiene tres instalaciones de producción ubicadas\n",
        "en diferentes ciudades con capacidades instaladas en cada una: 1000, 1200 y 1500,\n",
        "respectivamente; y tiene que decidir cuánto producir de cada producto en cada instalación\n",
        "si decide mantenerla abierta y cómo distribuir los tres productos para cubrir una restricción\n",
        "de la demanda que corresponde a 500, 700 y 800, respectivamente."
      ],
      "metadata": {
        "id": "Wu6UstqCZrNA"
      }
    },
    {
      "cell_type": "markdown",
      "source": [
        "# **Caso**"
      ],
      "metadata": {
        "id": "nIz5K7wcl6n2"
      }
    },
    {
      "cell_type": "code",
      "source": [
        "df = pd.DataFrame({' ' : ['Capacidad instalada','Restricción demanda'],\n",
        "        'Product A' : [1000, 500],\n",
        "        'Product B' : [1200, 1700],\n",
        "        'Product C' : [1500, 800]})\n",
        "df"
      ],
      "metadata": {
        "colab": {
          "base_uri": "https://localhost:8080/",
          "height": 111
        },
        "id": "qyxVzK9VaFmW",
        "outputId": "2ed5e2a0-b35a-4550-a91c-437b15f58e71"
      },
      "execution_count": 73,
      "outputs": [
        {
          "output_type": "execute_result",
          "data": {
            "text/plain": [
              "                        Product A  Product B  Product C\n",
              "0  Capacidad instalada       1000       1200       1500\n",
              "1  Restricción demanda        500       1700        800"
            ],
            "text/html": [
              "\n",
              "  <div id=\"df-cef2a1da-576d-49de-8f62-cb434ae48ffa\">\n",
              "    <div class=\"colab-df-container\">\n",
              "      <div>\n",
              "<style scoped>\n",
              "    .dataframe tbody tr th:only-of-type {\n",
              "        vertical-align: middle;\n",
              "    }\n",
              "\n",
              "    .dataframe tbody tr th {\n",
              "        vertical-align: top;\n",
              "    }\n",
              "\n",
              "    .dataframe thead th {\n",
              "        text-align: right;\n",
              "    }\n",
              "</style>\n",
              "<table border=\"1\" class=\"dataframe\">\n",
              "  <thead>\n",
              "    <tr style=\"text-align: right;\">\n",
              "      <th></th>\n",
              "      <th></th>\n",
              "      <th>Product A</th>\n",
              "      <th>Product B</th>\n",
              "      <th>Product C</th>\n",
              "    </tr>\n",
              "  </thead>\n",
              "  <tbody>\n",
              "    <tr>\n",
              "      <th>0</th>\n",
              "      <td>Capacidad instalada</td>\n",
              "      <td>1000</td>\n",
              "      <td>1200</td>\n",
              "      <td>1500</td>\n",
              "    </tr>\n",
              "    <tr>\n",
              "      <th>1</th>\n",
              "      <td>Restricción demanda</td>\n",
              "      <td>500</td>\n",
              "      <td>1700</td>\n",
              "      <td>800</td>\n",
              "    </tr>\n",
              "  </tbody>\n",
              "</table>\n",
              "</div>\n",
              "      <button class=\"colab-df-convert\" onclick=\"convertToInteractive('df-cef2a1da-576d-49de-8f62-cb434ae48ffa')\"\n",
              "              title=\"Convert this dataframe to an interactive table.\"\n",
              "              style=\"display:none;\">\n",
              "        \n",
              "  <svg xmlns=\"http://www.w3.org/2000/svg\" height=\"24px\"viewBox=\"0 0 24 24\"\n",
              "       width=\"24px\">\n",
              "    <path d=\"M0 0h24v24H0V0z\" fill=\"none\"/>\n",
              "    <path d=\"M18.56 5.44l.94 2.06.94-2.06 2.06-.94-2.06-.94-.94-2.06-.94 2.06-2.06.94zm-11 1L8.5 8.5l.94-2.06 2.06-.94-2.06-.94L8.5 2.5l-.94 2.06-2.06.94zm10 10l.94 2.06.94-2.06 2.06-.94-2.06-.94-.94-2.06-.94 2.06-2.06.94z\"/><path d=\"M17.41 7.96l-1.37-1.37c-.4-.4-.92-.59-1.43-.59-.52 0-1.04.2-1.43.59L10.3 9.45l-7.72 7.72c-.78.78-.78 2.05 0 2.83L4 21.41c.39.39.9.59 1.41.59.51 0 1.02-.2 1.41-.59l7.78-7.78 2.81-2.81c.8-.78.8-2.07 0-2.86zM5.41 20L4 18.59l7.72-7.72 1.47 1.35L5.41 20z\"/>\n",
              "  </svg>\n",
              "      </button>\n",
              "      \n",
              "  <style>\n",
              "    .colab-df-container {\n",
              "      display:flex;\n",
              "      flex-wrap:wrap;\n",
              "      gap: 12px;\n",
              "    }\n",
              "\n",
              "    .colab-df-convert {\n",
              "      background-color: #E8F0FE;\n",
              "      border: none;\n",
              "      border-radius: 50%;\n",
              "      cursor: pointer;\n",
              "      display: none;\n",
              "      fill: #1967D2;\n",
              "      height: 32px;\n",
              "      padding: 0 0 0 0;\n",
              "      width: 32px;\n",
              "    }\n",
              "\n",
              "    .colab-df-convert:hover {\n",
              "      background-color: #E2EBFA;\n",
              "      box-shadow: 0px 1px 2px rgba(60, 64, 67, 0.3), 0px 1px 3px 1px rgba(60, 64, 67, 0.15);\n",
              "      fill: #174EA6;\n",
              "    }\n",
              "\n",
              "    [theme=dark] .colab-df-convert {\n",
              "      background-color: #3B4455;\n",
              "      fill: #D2E3FC;\n",
              "    }\n",
              "\n",
              "    [theme=dark] .colab-df-convert:hover {\n",
              "      background-color: #434B5C;\n",
              "      box-shadow: 0px 1px 3px 1px rgba(0, 0, 0, 0.15);\n",
              "      filter: drop-shadow(0px 1px 2px rgba(0, 0, 0, 0.3));\n",
              "      fill: #FFFFFF;\n",
              "    }\n",
              "  </style>\n",
              "\n",
              "      <script>\n",
              "        const buttonEl =\n",
              "          document.querySelector('#df-cef2a1da-576d-49de-8f62-cb434ae48ffa button.colab-df-convert');\n",
              "        buttonEl.style.display =\n",
              "          google.colab.kernel.accessAllowed ? 'block' : 'none';\n",
              "\n",
              "        async function convertToInteractive(key) {\n",
              "          const element = document.querySelector('#df-cef2a1da-576d-49de-8f62-cb434ae48ffa');\n",
              "          const dataTable =\n",
              "            await google.colab.kernel.invokeFunction('convertToInteractive',\n",
              "                                                     [key], {});\n",
              "          if (!dataTable) return;\n",
              "\n",
              "          const docLinkHtml = 'Like what you see? Visit the ' +\n",
              "            '<a target=\"_blank\" href=https://colab.research.google.com/notebooks/data_table.ipynb>data table notebook</a>'\n",
              "            + ' to learn more about interactive tables.';\n",
              "          element.innerHTML = '';\n",
              "          dataTable['output_type'] = 'display_data';\n",
              "          await google.colab.output.renderOutput(dataTable, element);\n",
              "          const docLink = document.createElement('div');\n",
              "          docLink.innerHTML = docLinkHtml;\n",
              "          element.appendChild(docLink);\n",
              "        }\n",
              "      </script>\n",
              "    </div>\n",
              "  </div>\n",
              "  "
            ]
          },
          "metadata": {},
          "execution_count": 73
        }
      ]
    },
    {
      "cell_type": "markdown",
      "source": [
        "# **Problema**\n",
        "Minimizar los costos de producción y\n",
        "distribución, tomando en cuenta la capacidad de producción de cada instalación, los\n",
        "costos de transporte y la demanda de cada producto. Por este motivo, debe revisar que\n",
        "instalación debe cerrar.\n",
        "\n",
        "Además, la empresa tiene que asumir los siguientes costos de distribución:"
      ],
      "metadata": {
        "id": "zJS0ijNVhHM4"
      }
    },
    {
      "cell_type": "code",
      "source": [
        "df1 = pd.DataFrame({' ' : ['Instalación 1', 'Instalación 2',\"Instalación 3\"],\n",
        "        'Punto de demanda 1' : [5,6,9],\n",
        "        'Punto de demanda 2' : [8,4,5],\n",
        "        'Punto de demanda 3' : [9,12,10]})\n",
        "df1"
      ],
      "metadata": {
        "colab": {
          "base_uri": "https://localhost:8080/",
          "height": 142
        },
        "id": "dMhTn3kYhZWz",
        "outputId": "b64eb473-313d-4f0e-9034-5cef369e8fce"
      },
      "execution_count": 27,
      "outputs": [
        {
          "output_type": "execute_result",
          "data": {
            "text/plain": [
              "                  Punto de demanda 1  Punto de demanda 2  Punto de demanda 3\n",
              "0  Instalación 1                   5                   8                   9\n",
              "1  Instalación 2                   6                   4                  12\n",
              "2  Instalación 3                   9                   5                  10"
            ],
            "text/html": [
              "\n",
              "  <div id=\"df-7a766ed9-edc1-44f3-9b4c-e45d330cb477\">\n",
              "    <div class=\"colab-df-container\">\n",
              "      <div>\n",
              "<style scoped>\n",
              "    .dataframe tbody tr th:only-of-type {\n",
              "        vertical-align: middle;\n",
              "    }\n",
              "\n",
              "    .dataframe tbody tr th {\n",
              "        vertical-align: top;\n",
              "    }\n",
              "\n",
              "    .dataframe thead th {\n",
              "        text-align: right;\n",
              "    }\n",
              "</style>\n",
              "<table border=\"1\" class=\"dataframe\">\n",
              "  <thead>\n",
              "    <tr style=\"text-align: right;\">\n",
              "      <th></th>\n",
              "      <th></th>\n",
              "      <th>Punto de demanda 1</th>\n",
              "      <th>Punto de demanda 2</th>\n",
              "      <th>Punto de demanda 3</th>\n",
              "    </tr>\n",
              "  </thead>\n",
              "  <tbody>\n",
              "    <tr>\n",
              "      <th>0</th>\n",
              "      <td>Instalación 1</td>\n",
              "      <td>5</td>\n",
              "      <td>8</td>\n",
              "      <td>9</td>\n",
              "    </tr>\n",
              "    <tr>\n",
              "      <th>1</th>\n",
              "      <td>Instalación 2</td>\n",
              "      <td>6</td>\n",
              "      <td>4</td>\n",
              "      <td>12</td>\n",
              "    </tr>\n",
              "    <tr>\n",
              "      <th>2</th>\n",
              "      <td>Instalación 3</td>\n",
              "      <td>9</td>\n",
              "      <td>5</td>\n",
              "      <td>10</td>\n",
              "    </tr>\n",
              "  </tbody>\n",
              "</table>\n",
              "</div>\n",
              "      <button class=\"colab-df-convert\" onclick=\"convertToInteractive('df-7a766ed9-edc1-44f3-9b4c-e45d330cb477')\"\n",
              "              title=\"Convert this dataframe to an interactive table.\"\n",
              "              style=\"display:none;\">\n",
              "        \n",
              "  <svg xmlns=\"http://www.w3.org/2000/svg\" height=\"24px\"viewBox=\"0 0 24 24\"\n",
              "       width=\"24px\">\n",
              "    <path d=\"M0 0h24v24H0V0z\" fill=\"none\"/>\n",
              "    <path d=\"M18.56 5.44l.94 2.06.94-2.06 2.06-.94-2.06-.94-.94-2.06-.94 2.06-2.06.94zm-11 1L8.5 8.5l.94-2.06 2.06-.94-2.06-.94L8.5 2.5l-.94 2.06-2.06.94zm10 10l.94 2.06.94-2.06 2.06-.94-2.06-.94-.94-2.06-.94 2.06-2.06.94z\"/><path d=\"M17.41 7.96l-1.37-1.37c-.4-.4-.92-.59-1.43-.59-.52 0-1.04.2-1.43.59L10.3 9.45l-7.72 7.72c-.78.78-.78 2.05 0 2.83L4 21.41c.39.39.9.59 1.41.59.51 0 1.02-.2 1.41-.59l7.78-7.78 2.81-2.81c.8-.78.8-2.07 0-2.86zM5.41 20L4 18.59l7.72-7.72 1.47 1.35L5.41 20z\"/>\n",
              "  </svg>\n",
              "      </button>\n",
              "      \n",
              "  <style>\n",
              "    .colab-df-container {\n",
              "      display:flex;\n",
              "      flex-wrap:wrap;\n",
              "      gap: 12px;\n",
              "    }\n",
              "\n",
              "    .colab-df-convert {\n",
              "      background-color: #E8F0FE;\n",
              "      border: none;\n",
              "      border-radius: 50%;\n",
              "      cursor: pointer;\n",
              "      display: none;\n",
              "      fill: #1967D2;\n",
              "      height: 32px;\n",
              "      padding: 0 0 0 0;\n",
              "      width: 32px;\n",
              "    }\n",
              "\n",
              "    .colab-df-convert:hover {\n",
              "      background-color: #E2EBFA;\n",
              "      box-shadow: 0px 1px 2px rgba(60, 64, 67, 0.3), 0px 1px 3px 1px rgba(60, 64, 67, 0.15);\n",
              "      fill: #174EA6;\n",
              "    }\n",
              "\n",
              "    [theme=dark] .colab-df-convert {\n",
              "      background-color: #3B4455;\n",
              "      fill: #D2E3FC;\n",
              "    }\n",
              "\n",
              "    [theme=dark] .colab-df-convert:hover {\n",
              "      background-color: #434B5C;\n",
              "      box-shadow: 0px 1px 3px 1px rgba(0, 0, 0, 0.15);\n",
              "      filter: drop-shadow(0px 1px 2px rgba(0, 0, 0, 0.3));\n",
              "      fill: #FFFFFF;\n",
              "    }\n",
              "  </style>\n",
              "\n",
              "      <script>\n",
              "        const buttonEl =\n",
              "          document.querySelector('#df-7a766ed9-edc1-44f3-9b4c-e45d330cb477 button.colab-df-convert');\n",
              "        buttonEl.style.display =\n",
              "          google.colab.kernel.accessAllowed ? 'block' : 'none';\n",
              "\n",
              "        async function convertToInteractive(key) {\n",
              "          const element = document.querySelector('#df-7a766ed9-edc1-44f3-9b4c-e45d330cb477');\n",
              "          const dataTable =\n",
              "            await google.colab.kernel.invokeFunction('convertToInteractive',\n",
              "                                                     [key], {});\n",
              "          if (!dataTable) return;\n",
              "\n",
              "          const docLinkHtml = 'Like what you see? Visit the ' +\n",
              "            '<a target=\"_blank\" href=https://colab.research.google.com/notebooks/data_table.ipynb>data table notebook</a>'\n",
              "            + ' to learn more about interactive tables.';\n",
              "          element.innerHTML = '';\n",
              "          dataTable['output_type'] = 'display_data';\n",
              "          await google.colab.output.renderOutput(dataTable, element);\n",
              "          const docLink = document.createElement('div');\n",
              "          docLink.innerHTML = docLinkHtml;\n",
              "          element.appendChild(docLink);\n",
              "        }\n",
              "      </script>\n",
              "    </div>\n",
              "  </div>\n",
              "  "
            ]
          },
          "metadata": {},
          "execution_count": 27
        }
      ]
    },
    {
      "cell_type": "markdown",
      "source": [
        "# Variables:\n",
        "\n",
        "X (i,j) = cantidad del producto i producido en la instalación j\n",
        "\n",
        "d (i) = demanda del producto i\n",
        "\n",
        "C (i,j) = costo de transportar el producto i desde la instalación j hasta la ubicación de la demanda\n",
        "\n"
      ],
      "metadata": {
        "id": "w5e17o8riR_z"
      }
    },
    {
      "cell_type": "code",
      "source": [
        "# Datos del problema\n",
        "productos = 3\n",
        "instalaciones = 3\n",
        "capacidades = np.array([1000, 1200, 1500])\n",
        "demandas = np.array([500, 700, 800])\n",
        "costos = np.array([[5, 8, 9], [6, 4, 12], [9, 5, 10]])"
      ],
      "metadata": {
        "id": "Yu5zdR8PrtuQ"
      },
      "execution_count": 28,
      "outputs": []
    },
    {
      "cell_type": "markdown",
      "source": [
        "A continuación se realiza una optimización utilizando la librería CVXPY  para resolver el problema de optimización, lo que hace esta librería es minimizar la función objetivo con sus respectivas restricciones, cabe mencionar que tanto la función como las restricciones son lineales.  "
      ],
      "metadata": {
        "id": "z-eVnhGxmpWa"
      }
    },
    {
      "cell_type": "code",
      "source": [
        "# Variables de decisión\n",
        "x = cp.Variable((productos, instalaciones))\n",
        "\n",
        "# Función objetivo\n",
        "costo_total = cp.sum(cp.multiply(costos, x))\n",
        "\n",
        "# Restricciones\n",
        "# Restricción de capacidad\n",
        "for j in range(instalaciones):\n",
        "    cp.sum(x[:, j]) <= capacidades[j]\n",
        "\n",
        "# Restricción de demanda\n",
        "for i in range(productos):\n",
        "    cp.sum(x[i, :]) == demandas[i]\n",
        "\n",
        "# Restricción de no negatividad\n",
        "x >= 0\n",
        "\n",
        "# Problema de optimización\n",
        "prob = cp.Problem(cp.Minimize(costo_total), [x >= 0, \n",
        "    cp.sum(x[:, 0]) <= capacidades[0], \n",
        "    cp.sum(x[:, 1]) <= capacidades[1],\n",
        "    cp.sum(x[:, 2]) <= capacidades[2],\n",
        "    cp.sum(x[0, :]) == demandas[0],\n",
        "    cp.sum(x[1, :]) == demandas[1],\n",
        "    cp.sum(x[2, :]) == demandas[2]])\n",
        "\n",
        "# Resolución del problema\n",
        "prob.solve()\n",
        "\n",
        "# Resultados\n",
        "\n",
        "print(\"Costo total:\", prob.value)\n",
        "print(\"Cantidad de productos producidos:\")\n",
        "print(x.value)\n",
        "pd.DataFrame(x.value).round(2)"
      ],
      "metadata": {
        "id": "aVkmyR3Lj7md",
        "colab": {
          "base_uri": "https://localhost:8080/",
          "height": 227
        },
        "outputId": "6877c69f-9169-436a-edc9-6c68f88e9415"
      },
      "execution_count": 29,
      "outputs": [
        {
          "output_type": "stream",
          "name": "stdout",
          "text": [
            "Costo total: 9900.00002040023\n",
            "Cantidad de productos producidos:\n",
            "[[4.99999999e+02 2.92635419e-07 5.84871759e-07]\n",
            " [3.00000002e+02 3.99999998e+02 2.31390215e-07]\n",
            " [1.97877330e-06 7.99999997e+02 8.47020622e-07]]\n"
          ]
        },
        {
          "output_type": "execute_result",
          "data": {
            "text/plain": [
              "       0      1    2\n",
              "0  500.0    0.0  0.0\n",
              "1  300.0  400.0  0.0\n",
              "2    0.0  800.0  0.0"
            ],
            "text/html": [
              "\n",
              "  <div id=\"df-ae304369-68a7-445c-8010-1a87484da8ca\">\n",
              "    <div class=\"colab-df-container\">\n",
              "      <div>\n",
              "<style scoped>\n",
              "    .dataframe tbody tr th:only-of-type {\n",
              "        vertical-align: middle;\n",
              "    }\n",
              "\n",
              "    .dataframe tbody tr th {\n",
              "        vertical-align: top;\n",
              "    }\n",
              "\n",
              "    .dataframe thead th {\n",
              "        text-align: right;\n",
              "    }\n",
              "</style>\n",
              "<table border=\"1\" class=\"dataframe\">\n",
              "  <thead>\n",
              "    <tr style=\"text-align: right;\">\n",
              "      <th></th>\n",
              "      <th>0</th>\n",
              "      <th>1</th>\n",
              "      <th>2</th>\n",
              "    </tr>\n",
              "  </thead>\n",
              "  <tbody>\n",
              "    <tr>\n",
              "      <th>0</th>\n",
              "      <td>500.0</td>\n",
              "      <td>0.0</td>\n",
              "      <td>0.0</td>\n",
              "    </tr>\n",
              "    <tr>\n",
              "      <th>1</th>\n",
              "      <td>300.0</td>\n",
              "      <td>400.0</td>\n",
              "      <td>0.0</td>\n",
              "    </tr>\n",
              "    <tr>\n",
              "      <th>2</th>\n",
              "      <td>0.0</td>\n",
              "      <td>800.0</td>\n",
              "      <td>0.0</td>\n",
              "    </tr>\n",
              "  </tbody>\n",
              "</table>\n",
              "</div>\n",
              "      <button class=\"colab-df-convert\" onclick=\"convertToInteractive('df-ae304369-68a7-445c-8010-1a87484da8ca')\"\n",
              "              title=\"Convert this dataframe to an interactive table.\"\n",
              "              style=\"display:none;\">\n",
              "        \n",
              "  <svg xmlns=\"http://www.w3.org/2000/svg\" height=\"24px\"viewBox=\"0 0 24 24\"\n",
              "       width=\"24px\">\n",
              "    <path d=\"M0 0h24v24H0V0z\" fill=\"none\"/>\n",
              "    <path d=\"M18.56 5.44l.94 2.06.94-2.06 2.06-.94-2.06-.94-.94-2.06-.94 2.06-2.06.94zm-11 1L8.5 8.5l.94-2.06 2.06-.94-2.06-.94L8.5 2.5l-.94 2.06-2.06.94zm10 10l.94 2.06.94-2.06 2.06-.94-2.06-.94-.94-2.06-.94 2.06-2.06.94z\"/><path d=\"M17.41 7.96l-1.37-1.37c-.4-.4-.92-.59-1.43-.59-.52 0-1.04.2-1.43.59L10.3 9.45l-7.72 7.72c-.78.78-.78 2.05 0 2.83L4 21.41c.39.39.9.59 1.41.59.51 0 1.02-.2 1.41-.59l7.78-7.78 2.81-2.81c.8-.78.8-2.07 0-2.86zM5.41 20L4 18.59l7.72-7.72 1.47 1.35L5.41 20z\"/>\n",
              "  </svg>\n",
              "      </button>\n",
              "      \n",
              "  <style>\n",
              "    .colab-df-container {\n",
              "      display:flex;\n",
              "      flex-wrap:wrap;\n",
              "      gap: 12px;\n",
              "    }\n",
              "\n",
              "    .colab-df-convert {\n",
              "      background-color: #E8F0FE;\n",
              "      border: none;\n",
              "      border-radius: 50%;\n",
              "      cursor: pointer;\n",
              "      display: none;\n",
              "      fill: #1967D2;\n",
              "      height: 32px;\n",
              "      padding: 0 0 0 0;\n",
              "      width: 32px;\n",
              "    }\n",
              "\n",
              "    .colab-df-convert:hover {\n",
              "      background-color: #E2EBFA;\n",
              "      box-shadow: 0px 1px 2px rgba(60, 64, 67, 0.3), 0px 1px 3px 1px rgba(60, 64, 67, 0.15);\n",
              "      fill: #174EA6;\n",
              "    }\n",
              "\n",
              "    [theme=dark] .colab-df-convert {\n",
              "      background-color: #3B4455;\n",
              "      fill: #D2E3FC;\n",
              "    }\n",
              "\n",
              "    [theme=dark] .colab-df-convert:hover {\n",
              "      background-color: #434B5C;\n",
              "      box-shadow: 0px 1px 3px 1px rgba(0, 0, 0, 0.15);\n",
              "      filter: drop-shadow(0px 1px 2px rgba(0, 0, 0, 0.3));\n",
              "      fill: #FFFFFF;\n",
              "    }\n",
              "  </style>\n",
              "\n",
              "      <script>\n",
              "        const buttonEl =\n",
              "          document.querySelector('#df-ae304369-68a7-445c-8010-1a87484da8ca button.colab-df-convert');\n",
              "        buttonEl.style.display =\n",
              "          google.colab.kernel.accessAllowed ? 'block' : 'none';\n",
              "\n",
              "        async function convertToInteractive(key) {\n",
              "          const element = document.querySelector('#df-ae304369-68a7-445c-8010-1a87484da8ca');\n",
              "          const dataTable =\n",
              "            await google.colab.kernel.invokeFunction('convertToInteractive',\n",
              "                                                     [key], {});\n",
              "          if (!dataTable) return;\n",
              "\n",
              "          const docLinkHtml = 'Like what you see? Visit the ' +\n",
              "            '<a target=\"_blank\" href=https://colab.research.google.com/notebooks/data_table.ipynb>data table notebook</a>'\n",
              "            + ' to learn more about interactive tables.';\n",
              "          element.innerHTML = '';\n",
              "          dataTable['output_type'] = 'display_data';\n",
              "          await google.colab.output.renderOutput(dataTable, element);\n",
              "          const docLink = document.createElement('div');\n",
              "          docLink.innerHTML = docLinkHtml;\n",
              "          element.appendChild(docLink);\n",
              "        }\n",
              "      </script>\n",
              "    </div>\n",
              "  </div>\n",
              "  "
            ]
          },
          "metadata": {},
          "execution_count": 29
        }
      ]
    },
    {
      "cell_type": "markdown",
      "source": [
        "La solución que se obtuvo es la solución discreta y nos muestra que la instalación a cerrar es la número 3. A continuación, se utilizará el método Monte Carlo, el cual genera muestras aleatorias. En este caso el número de muestra es 100.000 para obtener mayor aproximación al resultado óptimo. Además, este método permite simular diferentes situaciones que se puede presentar en el caso de la demanda, es decir, cambios por preferencia de los consumidores o fluctuaciones en el mercado. Por todo lo anterior, el método Monte Carlo complementa al método usado anteriormente al evaluar distintos escenarios mediante la generación de distribucione."
      ],
      "metadata": {
        "id": "TARjhTmdnpf2"
      }
    },
    {
      "cell_type": "code",
      "source": [
        "!pip install --quiet pyDOE\n",
        "from pyDOE import lhs"
      ],
      "metadata": {
        "id": "Wo19o5BHZfZB",
        "colab": {
          "base_uri": "https://localhost:8080/"
        },
        "outputId": "e23206fa-79e8-45c8-b861-aa4dd4082aef"
      },
      "execution_count": 8,
      "outputs": [
        {
          "output_type": "stream",
          "name": "stdout",
          "text": [
            "  Preparing metadata (setup.py) ... \u001b[?25l\u001b[?25hdone\n",
            "  Building wheel for pyDOE (setup.py) ... \u001b[?25l\u001b[?25hdone\n"
          ]
        }
      ]
    },
    {
      "cell_type": "markdown",
      "source": [
        "Se generan las distriuciones para cada restricción de demanda:"
      ],
      "metadata": {
        "id": "dJ73FyOPpoHi"
      }
    },
    {
      "cell_type": "code",
      "source": [
        "ns = 100000\n",
        "rands_u = lhs(1, ns)\n",
        "mu = 500\n",
        "std = 20\n",
        "rands_d1 = norm(mu, std).ppf(rands_u)"
      ],
      "metadata": {
        "id": "l8n3P35b4qeJ"
      },
      "execution_count": 66,
      "outputs": []
    },
    {
      "cell_type": "code",
      "source": [
        "rands_u = lhs(1, ns)\n",
        "mu = 700\n",
        "std = 28\n",
        "rands_d2 = norm(mu, std).ppf(rands_u)"
      ],
      "metadata": {
        "id": "X6kNIvAtb84b"
      },
      "execution_count": 67,
      "outputs": []
    },
    {
      "cell_type": "code",
      "source": [
        "rands_u = lhs(1, ns)\n",
        "mu = 800\n",
        "std = 35\n",
        "rands_d3 = norm(mu, std).ppf(rands_u)"
      ],
      "metadata": {
        "id": "mcCtQegWb9cm"
      },
      "execution_count": 68,
      "outputs": []
    },
    {
      "cell_type": "code",
      "source": [
        "dem = np.concatenate((rands_d1.reshape(-1,1), rands_d2.reshape(-1,1), rands_d3.reshape(-1,1)), axis=1)\n",
        "dem.shape"
      ],
      "metadata": {
        "colab": {
          "base_uri": "https://localhost:8080/"
        },
        "id": "N1bb5UEieXQW",
        "outputId": "edbd7764-5ae7-4b0a-b8d9-b81f26e3da5f"
      },
      "execution_count": 69,
      "outputs": [
        {
          "output_type": "execute_result",
          "data": {
            "text/plain": [
              "(100000, 3)"
            ]
          },
          "metadata": {},
          "execution_count": 69
        }
      ]
    },
    {
      "cell_type": "markdown",
      "source": [
        "Por consiguiente, se usa un ciclo for que va a iterar cada resultado de la distribución, es decir, de las 100.000 muestras aleatorias. Luego se aplica una optimización por el método usado anteriormente (CVXPY). "
      ],
      "metadata": {
        "id": "CX7t_mlZp4CH"
      }
    },
    {
      "cell_type": "code",
      "source": [
        "soluciones = np.zeros(ns)\n",
        "for k in range(ns):\n",
        "  demanda = dem[k,:]\n",
        "  x = cp.Variable((productos, instalaciones))\n",
        "  costo_total = cp.sum(cp.multiply(costos, x))\n",
        "  \n",
        "  for j in range(instalaciones):\n",
        "    cp.sum(x[:, j]) <= capacidades[j]\n",
        "  for i in range(productos):\n",
        "    cp.sum(x[i, :]) == demanda[i]\n",
        "  x >= 0\n",
        "  \n",
        "  prob = cp.Problem(cp.Minimize(costo_total), [x >= 0, \n",
        "    cp.sum(x[:, 0]) <= capacidades[0], \n",
        "    cp.sum(x[:, 1]) <= capacidades[1],\n",
        "    cp.sum(x[:, 2]) <= capacidades[2],\n",
        "    cp.sum(x[0, :]) == demanda[0],\n",
        "    cp.sum(x[1, :]) == demanda[1],\n",
        "    cp.sum(x[2, :]) == demanda[2]])\n",
        "  prob.solve()\n",
        "  sol = prob.value\n",
        "  soluciones[k] = sol\n",
        "  "
      ],
      "metadata": {
        "id": "Pl-B6M5OchvO"
      },
      "execution_count": 70,
      "outputs": []
    },
    {
      "cell_type": "markdown",
      "source": [
        "En consecuencia se obtiene la media de los resultados anteriores y se obtiene como costo toal:"
      ],
      "metadata": {
        "id": "Al9gOKDaqThn"
      }
    },
    {
      "cell_type": "code",
      "source": [
        "d = soluciones.mean()\n",
        "print(\"Costo total:\", d)\n",
        "print(\"Cantidad de productos producidos:\")\n",
        "print(x.value)\n",
        "pd.DataFrame(x.value).round(2)"
      ],
      "metadata": {
        "id": "ECiJNDCElsz-",
        "colab": {
          "base_uri": "https://localhost:8080/",
          "height": 227
        },
        "outputId": "10b1ad25-ba25-40d6-8f82-fbbeb2244d2e"
      },
      "execution_count": 72,
      "outputs": [
        {
          "output_type": "stream",
          "name": "stdout",
          "text": [
            "Costo total: 9900.000384021774\n",
            "Cantidad de productos producidos:\n",
            "[[4.93306106e+02 4.00784702e-07 7.71822555e-07]\n",
            " [3.20823319e+02 3.63211419e+02 3.39947234e-07]\n",
            " [2.64258488e-06 8.36788576e+02 1.72618911e-06]]\n"
          ]
        },
        {
          "output_type": "execute_result",
          "data": {
            "text/plain": [
              "        0       1    2\n",
              "0  493.31    0.00  0.0\n",
              "1  320.82  363.21  0.0\n",
              "2    0.00  836.79  0.0"
            ],
            "text/html": [
              "\n",
              "  <div id=\"df-2f7f4890-a4b2-4896-84cc-6dd706b49154\">\n",
              "    <div class=\"colab-df-container\">\n",
              "      <div>\n",
              "<style scoped>\n",
              "    .dataframe tbody tr th:only-of-type {\n",
              "        vertical-align: middle;\n",
              "    }\n",
              "\n",
              "    .dataframe tbody tr th {\n",
              "        vertical-align: top;\n",
              "    }\n",
              "\n",
              "    .dataframe thead th {\n",
              "        text-align: right;\n",
              "    }\n",
              "</style>\n",
              "<table border=\"1\" class=\"dataframe\">\n",
              "  <thead>\n",
              "    <tr style=\"text-align: right;\">\n",
              "      <th></th>\n",
              "      <th>0</th>\n",
              "      <th>1</th>\n",
              "      <th>2</th>\n",
              "    </tr>\n",
              "  </thead>\n",
              "  <tbody>\n",
              "    <tr>\n",
              "      <th>0</th>\n",
              "      <td>493.31</td>\n",
              "      <td>0.00</td>\n",
              "      <td>0.0</td>\n",
              "    </tr>\n",
              "    <tr>\n",
              "      <th>1</th>\n",
              "      <td>320.82</td>\n",
              "      <td>363.21</td>\n",
              "      <td>0.0</td>\n",
              "    </tr>\n",
              "    <tr>\n",
              "      <th>2</th>\n",
              "      <td>0.00</td>\n",
              "      <td>836.79</td>\n",
              "      <td>0.0</td>\n",
              "    </tr>\n",
              "  </tbody>\n",
              "</table>\n",
              "</div>\n",
              "      <button class=\"colab-df-convert\" onclick=\"convertToInteractive('df-2f7f4890-a4b2-4896-84cc-6dd706b49154')\"\n",
              "              title=\"Convert this dataframe to an interactive table.\"\n",
              "              style=\"display:none;\">\n",
              "        \n",
              "  <svg xmlns=\"http://www.w3.org/2000/svg\" height=\"24px\"viewBox=\"0 0 24 24\"\n",
              "       width=\"24px\">\n",
              "    <path d=\"M0 0h24v24H0V0z\" fill=\"none\"/>\n",
              "    <path d=\"M18.56 5.44l.94 2.06.94-2.06 2.06-.94-2.06-.94-.94-2.06-.94 2.06-2.06.94zm-11 1L8.5 8.5l.94-2.06 2.06-.94-2.06-.94L8.5 2.5l-.94 2.06-2.06.94zm10 10l.94 2.06.94-2.06 2.06-.94-2.06-.94-.94-2.06-.94 2.06-2.06.94z\"/><path d=\"M17.41 7.96l-1.37-1.37c-.4-.4-.92-.59-1.43-.59-.52 0-1.04.2-1.43.59L10.3 9.45l-7.72 7.72c-.78.78-.78 2.05 0 2.83L4 21.41c.39.39.9.59 1.41.59.51 0 1.02-.2 1.41-.59l7.78-7.78 2.81-2.81c.8-.78.8-2.07 0-2.86zM5.41 20L4 18.59l7.72-7.72 1.47 1.35L5.41 20z\"/>\n",
              "  </svg>\n",
              "      </button>\n",
              "      \n",
              "  <style>\n",
              "    .colab-df-container {\n",
              "      display:flex;\n",
              "      flex-wrap:wrap;\n",
              "      gap: 12px;\n",
              "    }\n",
              "\n",
              "    .colab-df-convert {\n",
              "      background-color: #E8F0FE;\n",
              "      border: none;\n",
              "      border-radius: 50%;\n",
              "      cursor: pointer;\n",
              "      display: none;\n",
              "      fill: #1967D2;\n",
              "      height: 32px;\n",
              "      padding: 0 0 0 0;\n",
              "      width: 32px;\n",
              "    }\n",
              "\n",
              "    .colab-df-convert:hover {\n",
              "      background-color: #E2EBFA;\n",
              "      box-shadow: 0px 1px 2px rgba(60, 64, 67, 0.3), 0px 1px 3px 1px rgba(60, 64, 67, 0.15);\n",
              "      fill: #174EA6;\n",
              "    }\n",
              "\n",
              "    [theme=dark] .colab-df-convert {\n",
              "      background-color: #3B4455;\n",
              "      fill: #D2E3FC;\n",
              "    }\n",
              "\n",
              "    [theme=dark] .colab-df-convert:hover {\n",
              "      background-color: #434B5C;\n",
              "      box-shadow: 0px 1px 3px 1px rgba(0, 0, 0, 0.15);\n",
              "      filter: drop-shadow(0px 1px 2px rgba(0, 0, 0, 0.3));\n",
              "      fill: #FFFFFF;\n",
              "    }\n",
              "  </style>\n",
              "\n",
              "      <script>\n",
              "        const buttonEl =\n",
              "          document.querySelector('#df-2f7f4890-a4b2-4896-84cc-6dd706b49154 button.colab-df-convert');\n",
              "        buttonEl.style.display =\n",
              "          google.colab.kernel.accessAllowed ? 'block' : 'none';\n",
              "\n",
              "        async function convertToInteractive(key) {\n",
              "          const element = document.querySelector('#df-2f7f4890-a4b2-4896-84cc-6dd706b49154');\n",
              "          const dataTable =\n",
              "            await google.colab.kernel.invokeFunction('convertToInteractive',\n",
              "                                                     [key], {});\n",
              "          if (!dataTable) return;\n",
              "\n",
              "          const docLinkHtml = 'Like what you see? Visit the ' +\n",
              "            '<a target=\"_blank\" href=https://colab.research.google.com/notebooks/data_table.ipynb>data table notebook</a>'\n",
              "            + ' to learn more about interactive tables.';\n",
              "          element.innerHTML = '';\n",
              "          dataTable['output_type'] = 'display_data';\n",
              "          await google.colab.output.renderOutput(dataTable, element);\n",
              "          const docLink = document.createElement('div');\n",
              "          docLink.innerHTML = docLinkHtml;\n",
              "          element.appendChild(docLink);\n",
              "        }\n",
              "      </script>\n",
              "    </div>\n",
              "  </div>\n",
              "  "
            ]
          },
          "metadata": {},
          "execution_count": 72
        }
      ]
    },
    {
      "cell_type": "markdown",
      "source": [
        "**¿Cuál es la decisión optima de la empresa en su plan de producción y de distribución?**\n",
        "Los resultados demuestran que para minimizar los costos de producción y distribución, la empresa debe cerrar la instalación numero 3. Además, se encontró que la mejor forma de satisfacer las demandas de las 3 instalaciones es que la planta 1 produza 493,31 unidades para el punto 1 y 320,82 unidades para el punto 2. A esto se le suma que la planta 2 produzca 363,21 unidades para el punto 2 y 836,79 para el punto *3*"
      ],
      "metadata": {
        "id": "x0kHRQU2qtkv"
      }
    },
    {
      "cell_type": "markdown",
      "source": [
        "**¿Cambia la decisión del plan de producción de la empresa si se afectan las variables de\n",
        "demanda y de costos?**\n",
        "\n",
        "Si, ya que en el caso de la demanda, si esta aumenta, ellos deben producir más para satisfacer la demanda, es decir, modificar las unidades que se produzcan o, incluso, aumentar la capacidad. Lo mismo ocurre con los costos, ya que si estos aumentan, por ejemplo, deben ajustar su plan de producción con el fin de mantener su rentabilidad. \n"
      ],
      "metadata": {
        "id": "M5qxrgK7tjAv"
      }
    }
  ]
}